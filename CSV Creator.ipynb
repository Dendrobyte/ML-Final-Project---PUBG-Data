{
 "cells": [
  {
   "cell_type": "code",
   "execution_count": 31,
   "metadata": {},
   "outputs": [
    {
     "name": "stdout",
     "output_type": "stream",
     "text": [
      "New spreadsheet created!\n"
     ]
    }
   ],
   "source": [
    "import csv\n",
    "\n",
    "file = open('PUBG Data/train_V2.csv')\n",
    "oldFileReader = csv.reader(file)\n",
    "newFile = open('PUBG Data/test_solo10k.csv', 'w', newline='')\n",
    "newFileWriter = csv.writer(newFile)\n",
    "\n",
    "# Write the first line\n",
    "newFileWriter.writerow(next(oldFileReader))\n",
    "\n",
    "''' Naive way to skip rows for the test data\n",
    "for i in range(20000):\n",
    "    next(oldFileReader)\n",
    "    \n",
    "'''\n",
    "i = 0\n",
    "for row in oldFileReader:\n",
    "    if(i > 10000):\n",
    "        break\n",
    "    if(row[15] == 'solo-fpp'):\n",
    "        newFileWriter.writerow(row)\n",
    "        i += 1\n",
    "\n",
    "newFile.close()\n",
    "print(\"New spreadsheet created!\")"
   ]
  },
  {
   "cell_type": "code",
   "execution_count": null,
   "metadata": {},
   "outputs": [],
   "source": []
  }
 ],
 "metadata": {
  "kernelspec": {
   "display_name": "Python 3.7.4 64-bit",
   "language": "python",
   "name": "python37464bit26e4b6d3f2d14b3c8ce4298e41e56dbc"
  },
  "language_info": {
   "codemirror_mode": {
    "name": "ipython",
    "version": 3
   },
   "file_extension": ".py",
   "mimetype": "text/x-python",
   "name": "python",
   "nbconvert_exporter": "python",
   "pygments_lexer": "ipython3",
   "version": "3.7.4"
  }
 },
 "nbformat": 4,
 "nbformat_minor": 4
}
